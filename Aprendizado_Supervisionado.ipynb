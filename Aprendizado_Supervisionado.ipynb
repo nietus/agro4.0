{
  "cells": [
    {
      "cell_type": "markdown",
      "source": [
        "***Antonio Soares Couto Neto***"
      ],
      "metadata": {
        "id": "vlv6RgsHoywF"
      }
    },
    {
      "cell_type": "markdown",
      "metadata": {
        "id": "rioxSNq4tx90"
      },
      "source": [
        "**Exercícios de Aprendizado Supervisionado**"
      ]
    },
    {
      "cell_type": "code",
      "execution_count": 2,
      "metadata": {
        "id": "z_pCNJS5t0lV"
      },
      "outputs": [],
      "source": [
        "#Importando bibliotecas necessárias\n",
        "\n",
        "import pandas as pd\n",
        "import matplotlib.pyplot as plt\n",
        "\n",
        "from sklearn.model_selection import train_test_split\n",
        "from sklearn.preprocessing import LabelEncoder\n",
        "\n",
        "from sklearn.neighbors import KNeighborsClassifier\n",
        "from sklearn.tree import DecisionTreeClassifier, plot_tree\n",
        "\n",
        "from sklearn.metrics import accuracy_score, confusion_matrix, ConfusionMatrixDisplay\n"
      ]
    },
    {
      "cell_type": "markdown",
      "metadata": {
        "id": "X5mGZ5cQvFgE"
      },
      "source": [
        "**Download Dataset** - [Crop recommendation data](https://dataverse.harvard.edu/dataset.xhtml?persistentId=doi:10.7910/DVN/4GBWFV)"
      ]
    },
    {
      "cell_type": "markdown",
      "source": [
        "O dataset **Crop Recommendation Data** contém um total de 1697 amostras, referente as características de solo e condições ambientais para o crescimento de diversas culturas.\n",
        "\n",
        "Os dados estão estruturados nas seguintes colunas:\n",
        "N (Nitrogênio): Quantidade de nitrogênio no solo.\n",
        "\n",
        "*   P (Fósforo): Quantidade de fósforo no solo\n",
        "*   K (Potássio): Quantidade de potássio no solo\n",
        "*   temperature (Temperatura): Temperatura ambiente em graus Celsius\n",
        "*   humidity (Umidade): Umidade relativa do ar em porcentagem\n",
        "ph: Valor de pH do solo\n",
        "*   rainfall (Precipitação): Quantidade de precipitação em mm\n",
        "*   label: A cultura recomendada para plantio, com base nas condições descritas\n"
      ],
      "metadata": {
        "id": "62FH6kp73Iq7"
      }
    },
    {
      "cell_type": "markdown",
      "source": [
        "**Importante:** em *label*, temos os rótulos (classes) que representam diferentes culturas agrícolas: Rice (Arroz), Maize (Milho), Soyabeans (Soja), Beans (Feijão), Peas (Ervilhas), Groundnuts (Amendoins), Cowpeas (Feijão-caupi), Banana, Mango (Manga), Grapes (Uvas), Watermelon (Melancia), Apple (Maçã), Orange (Laranja), Cotton (Algodão) e Coffee (Café)"
      ],
      "metadata": {
        "id": "1OrMHj953j9O"
      }
    },
    {
      "cell_type": "markdown",
      "metadata": {
        "id": "KU3NaXf7vaav"
      },
      "source": [
        "**Exercício 1 – Leitura Dataset**"
      ]
    },
    {
      "cell_type": "markdown",
      "source": [
        "Realize a leitura dos dados e exiba as informações gerais do dataset\n",
        "\n",
        "Exiba quantas amostras existem por classe (label)\n"
      ],
      "metadata": {
        "id": "zFjFqNNI2sxF"
      }
    },
    {
      "cell_type": "code",
      "source": [
        "# Carregar os dados\n",
        "data = pd.read_csv(\"Crop_recommendation.csv\")\n",
        "\n",
        "# Informacoes gerais do dataset\n",
        "data.info()\n",
        "\n",
        "# Exibir quantas amostras existem por classe (label)\n",
        "data.label.value_counts()"
      ],
      "metadata": {
        "id": "kpuZk7Wg5jHJ",
        "colab": {
          "base_uri": "https://localhost:8080/"
        },
        "outputId": "ba9b7788-16d6-42e2-ac92-fd25b52fbce2"
      },
      "execution_count": 22,
      "outputs": [
        {
          "output_type": "stream",
          "name": "stdout",
          "text": [
            "<class 'pandas.core.frame.DataFrame'>\n",
            "RangeIndex: 1697 entries, 0 to 1696\n",
            "Data columns (total 8 columns):\n",
            " #   Column       Non-Null Count  Dtype  \n",
            "---  ------       --------------  -----  \n",
            " 0   N            1697 non-null   int64  \n",
            " 1   P            1697 non-null   int64  \n",
            " 2   K            1697 non-null   int64  \n",
            " 3   temperature  1697 non-null   float64\n",
            " 4   humidity     1697 non-null   float64\n",
            " 5   ph           1697 non-null   float64\n",
            " 6   rainfall     1697 non-null   float64\n",
            " 7   label        1697 non-null   object \n",
            "dtypes: float64(4), int64(3), object(1)\n",
            "memory usage: 106.2+ KB\n"
          ]
        },
        {
          "output_type": "execute_result",
          "data": {
            "text/plain": [
              "label\n",
              "rice          139\n",
              "Soyabeans     130\n",
              "banana        130\n",
              "beans         125\n",
              "cowpeas       122\n",
              "orange        122\n",
              "maize         119\n",
              "coffee        110\n",
              "peas          100\n",
              "groundnuts    100\n",
              "mango         100\n",
              "grapes        100\n",
              "watermelon    100\n",
              "apple         100\n",
              "cotton        100\n",
              "Name: count, dtype: int64"
            ]
          },
          "metadata": {},
          "execution_count": 22
        }
      ]
    },
    {
      "cell_type": "markdown",
      "source": [
        "**Exercício 2 – Preparação dos Dados, divisão treinamento e testes**"
      ],
      "metadata": {
        "id": "oA0HQOi51aJ8"
      }
    },
    {
      "cell_type": "markdown",
      "source": [
        "Realize a divisão dos dados em treinamento e testes"
      ],
      "metadata": {
        "id": "mI8tI1xG22Q-"
      }
    },
    {
      "cell_type": "code",
      "execution_count": 23,
      "metadata": {
        "id": "stWixyDRtxjX",
        "colab": {
          "base_uri": "https://localhost:8080/",
          "height": 300
        },
        "outputId": "2d180b90-4e0f-440a-9240-cf6209760898"
      },
      "outputs": [
        {
          "output_type": "execute_result",
          "data": {
            "text/plain": [
              "                 N            P            K  temperature     humidity  \\\n",
              "count  1697.000000  1697.000000  1697.000000  1697.000000  1697.000000   \n",
              "mean     52.647024    58.126105    52.031232    24.711674    65.848856   \n",
              "std      38.536964    34.164342    57.068796     4.910428    24.432640   \n",
              "min       0.000000     5.000000     5.000000     8.825675    14.258040   \n",
              "25%      21.000000    36.000000    19.000000    21.631491    51.278688   \n",
              "50%      37.000000    54.000000    27.000000    24.910323    77.906210   \n",
              "75%      90.000000    72.000000    52.000000    27.834871    83.856427   \n",
              "max     140.000000   145.000000   205.000000    41.948657    94.964199   \n",
              "\n",
              "                ph     rainfall  \n",
              "count  1697.000000  1697.000000  \n",
              "mean      6.438962    99.364935  \n",
              "std       0.870411    50.436396  \n",
              "min       3.504752     5.314507  \n",
              "25%       5.861399    66.838723  \n",
              "50%       6.354007    93.123306  \n",
              "75%       6.932537   115.356032  \n",
              "max       9.935091   298.560117  "
            ],
            "text/html": [
              "\n",
              "  <div id=\"df-ee8e7d41-b37c-489c-b837-2a43f39e28e4\" class=\"colab-df-container\">\n",
              "    <div>\n",
              "<style scoped>\n",
              "    .dataframe tbody tr th:only-of-type {\n",
              "        vertical-align: middle;\n",
              "    }\n",
              "\n",
              "    .dataframe tbody tr th {\n",
              "        vertical-align: top;\n",
              "    }\n",
              "\n",
              "    .dataframe thead th {\n",
              "        text-align: right;\n",
              "    }\n",
              "</style>\n",
              "<table border=\"1\" class=\"dataframe\">\n",
              "  <thead>\n",
              "    <tr style=\"text-align: right;\">\n",
              "      <th></th>\n",
              "      <th>N</th>\n",
              "      <th>P</th>\n",
              "      <th>K</th>\n",
              "      <th>temperature</th>\n",
              "      <th>humidity</th>\n",
              "      <th>ph</th>\n",
              "      <th>rainfall</th>\n",
              "    </tr>\n",
              "  </thead>\n",
              "  <tbody>\n",
              "    <tr>\n",
              "      <th>count</th>\n",
              "      <td>1697.000000</td>\n",
              "      <td>1697.000000</td>\n",
              "      <td>1697.000000</td>\n",
              "      <td>1697.000000</td>\n",
              "      <td>1697.000000</td>\n",
              "      <td>1697.000000</td>\n",
              "      <td>1697.000000</td>\n",
              "    </tr>\n",
              "    <tr>\n",
              "      <th>mean</th>\n",
              "      <td>52.647024</td>\n",
              "      <td>58.126105</td>\n",
              "      <td>52.031232</td>\n",
              "      <td>24.711674</td>\n",
              "      <td>65.848856</td>\n",
              "      <td>6.438962</td>\n",
              "      <td>99.364935</td>\n",
              "    </tr>\n",
              "    <tr>\n",
              "      <th>std</th>\n",
              "      <td>38.536964</td>\n",
              "      <td>34.164342</td>\n",
              "      <td>57.068796</td>\n",
              "      <td>4.910428</td>\n",
              "      <td>24.432640</td>\n",
              "      <td>0.870411</td>\n",
              "      <td>50.436396</td>\n",
              "    </tr>\n",
              "    <tr>\n",
              "      <th>min</th>\n",
              "      <td>0.000000</td>\n",
              "      <td>5.000000</td>\n",
              "      <td>5.000000</td>\n",
              "      <td>8.825675</td>\n",
              "      <td>14.258040</td>\n",
              "      <td>3.504752</td>\n",
              "      <td>5.314507</td>\n",
              "    </tr>\n",
              "    <tr>\n",
              "      <th>25%</th>\n",
              "      <td>21.000000</td>\n",
              "      <td>36.000000</td>\n",
              "      <td>19.000000</td>\n",
              "      <td>21.631491</td>\n",
              "      <td>51.278688</td>\n",
              "      <td>5.861399</td>\n",
              "      <td>66.838723</td>\n",
              "    </tr>\n",
              "    <tr>\n",
              "      <th>50%</th>\n",
              "      <td>37.000000</td>\n",
              "      <td>54.000000</td>\n",
              "      <td>27.000000</td>\n",
              "      <td>24.910323</td>\n",
              "      <td>77.906210</td>\n",
              "      <td>6.354007</td>\n",
              "      <td>93.123306</td>\n",
              "    </tr>\n",
              "    <tr>\n",
              "      <th>75%</th>\n",
              "      <td>90.000000</td>\n",
              "      <td>72.000000</td>\n",
              "      <td>52.000000</td>\n",
              "      <td>27.834871</td>\n",
              "      <td>83.856427</td>\n",
              "      <td>6.932537</td>\n",
              "      <td>115.356032</td>\n",
              "    </tr>\n",
              "    <tr>\n",
              "      <th>max</th>\n",
              "      <td>140.000000</td>\n",
              "      <td>145.000000</td>\n",
              "      <td>205.000000</td>\n",
              "      <td>41.948657</td>\n",
              "      <td>94.964199</td>\n",
              "      <td>9.935091</td>\n",
              "      <td>298.560117</td>\n",
              "    </tr>\n",
              "  </tbody>\n",
              "</table>\n",
              "</div>\n",
              "    <div class=\"colab-df-buttons\">\n",
              "\n",
              "  <div class=\"colab-df-container\">\n",
              "    <button class=\"colab-df-convert\" onclick=\"convertToInteractive('df-ee8e7d41-b37c-489c-b837-2a43f39e28e4')\"\n",
              "            title=\"Convert this dataframe to an interactive table.\"\n",
              "            style=\"display:none;\">\n",
              "\n",
              "  <svg xmlns=\"http://www.w3.org/2000/svg\" height=\"24px\" viewBox=\"0 -960 960 960\">\n",
              "    <path d=\"M120-120v-720h720v720H120Zm60-500h600v-160H180v160Zm220 220h160v-160H400v160Zm0 220h160v-160H400v160ZM180-400h160v-160H180v160Zm440 0h160v-160H620v160ZM180-180h160v-160H180v160Zm440 0h160v-160H620v160Z\"/>\n",
              "  </svg>\n",
              "    </button>\n",
              "\n",
              "  <style>\n",
              "    .colab-df-container {\n",
              "      display:flex;\n",
              "      gap: 12px;\n",
              "    }\n",
              "\n",
              "    .colab-df-convert {\n",
              "      background-color: #E8F0FE;\n",
              "      border: none;\n",
              "      border-radius: 50%;\n",
              "      cursor: pointer;\n",
              "      display: none;\n",
              "      fill: #1967D2;\n",
              "      height: 32px;\n",
              "      padding: 0 0 0 0;\n",
              "      width: 32px;\n",
              "    }\n",
              "\n",
              "    .colab-df-convert:hover {\n",
              "      background-color: #E2EBFA;\n",
              "      box-shadow: 0px 1px 2px rgba(60, 64, 67, 0.3), 0px 1px 3px 1px rgba(60, 64, 67, 0.15);\n",
              "      fill: #174EA6;\n",
              "    }\n",
              "\n",
              "    .colab-df-buttons div {\n",
              "      margin-bottom: 4px;\n",
              "    }\n",
              "\n",
              "    [theme=dark] .colab-df-convert {\n",
              "      background-color: #3B4455;\n",
              "      fill: #D2E3FC;\n",
              "    }\n",
              "\n",
              "    [theme=dark] .colab-df-convert:hover {\n",
              "      background-color: #434B5C;\n",
              "      box-shadow: 0px 1px 3px 1px rgba(0, 0, 0, 0.15);\n",
              "      filter: drop-shadow(0px 1px 2px rgba(0, 0, 0, 0.3));\n",
              "      fill: #FFFFFF;\n",
              "    }\n",
              "  </style>\n",
              "\n",
              "    <script>\n",
              "      const buttonEl =\n",
              "        document.querySelector('#df-ee8e7d41-b37c-489c-b837-2a43f39e28e4 button.colab-df-convert');\n",
              "      buttonEl.style.display =\n",
              "        google.colab.kernel.accessAllowed ? 'block' : 'none';\n",
              "\n",
              "      async function convertToInteractive(key) {\n",
              "        const element = document.querySelector('#df-ee8e7d41-b37c-489c-b837-2a43f39e28e4');\n",
              "        const dataTable =\n",
              "          await google.colab.kernel.invokeFunction('convertToInteractive',\n",
              "                                                    [key], {});\n",
              "        if (!dataTable) return;\n",
              "\n",
              "        const docLinkHtml = 'Like what you see? Visit the ' +\n",
              "          '<a target=\"_blank\" href=https://colab.research.google.com/notebooks/data_table.ipynb>data table notebook</a>'\n",
              "          + ' to learn more about interactive tables.';\n",
              "        element.innerHTML = '';\n",
              "        dataTable['output_type'] = 'display_data';\n",
              "        await google.colab.output.renderOutput(dataTable, element);\n",
              "        const docLink = document.createElement('div');\n",
              "        docLink.innerHTML = docLinkHtml;\n",
              "        element.appendChild(docLink);\n",
              "      }\n",
              "    </script>\n",
              "  </div>\n",
              "\n",
              "\n",
              "<div id=\"df-1272facc-37d8-42bd-9679-9d686be69c52\">\n",
              "  <button class=\"colab-df-quickchart\" onclick=\"quickchart('df-1272facc-37d8-42bd-9679-9d686be69c52')\"\n",
              "            title=\"Suggest charts\"\n",
              "            style=\"display:none;\">\n",
              "\n",
              "<svg xmlns=\"http://www.w3.org/2000/svg\" height=\"24px\"viewBox=\"0 0 24 24\"\n",
              "     width=\"24px\">\n",
              "    <g>\n",
              "        <path d=\"M19 3H5c-1.1 0-2 .9-2 2v14c0 1.1.9 2 2 2h14c1.1 0 2-.9 2-2V5c0-1.1-.9-2-2-2zM9 17H7v-7h2v7zm4 0h-2V7h2v10zm4 0h-2v-4h2v4z\"/>\n",
              "    </g>\n",
              "</svg>\n",
              "  </button>\n",
              "\n",
              "<style>\n",
              "  .colab-df-quickchart {\n",
              "      --bg-color: #E8F0FE;\n",
              "      --fill-color: #1967D2;\n",
              "      --hover-bg-color: #E2EBFA;\n",
              "      --hover-fill-color: #174EA6;\n",
              "      --disabled-fill-color: #AAA;\n",
              "      --disabled-bg-color: #DDD;\n",
              "  }\n",
              "\n",
              "  [theme=dark] .colab-df-quickchart {\n",
              "      --bg-color: #3B4455;\n",
              "      --fill-color: #D2E3FC;\n",
              "      --hover-bg-color: #434B5C;\n",
              "      --hover-fill-color: #FFFFFF;\n",
              "      --disabled-bg-color: #3B4455;\n",
              "      --disabled-fill-color: #666;\n",
              "  }\n",
              "\n",
              "  .colab-df-quickchart {\n",
              "    background-color: var(--bg-color);\n",
              "    border: none;\n",
              "    border-radius: 50%;\n",
              "    cursor: pointer;\n",
              "    display: none;\n",
              "    fill: var(--fill-color);\n",
              "    height: 32px;\n",
              "    padding: 0;\n",
              "    width: 32px;\n",
              "  }\n",
              "\n",
              "  .colab-df-quickchart:hover {\n",
              "    background-color: var(--hover-bg-color);\n",
              "    box-shadow: 0 1px 2px rgba(60, 64, 67, 0.3), 0 1px 3px 1px rgba(60, 64, 67, 0.15);\n",
              "    fill: var(--button-hover-fill-color);\n",
              "  }\n",
              "\n",
              "  .colab-df-quickchart-complete:disabled,\n",
              "  .colab-df-quickchart-complete:disabled:hover {\n",
              "    background-color: var(--disabled-bg-color);\n",
              "    fill: var(--disabled-fill-color);\n",
              "    box-shadow: none;\n",
              "  }\n",
              "\n",
              "  .colab-df-spinner {\n",
              "    border: 2px solid var(--fill-color);\n",
              "    border-color: transparent;\n",
              "    border-bottom-color: var(--fill-color);\n",
              "    animation:\n",
              "      spin 1s steps(1) infinite;\n",
              "  }\n",
              "\n",
              "  @keyframes spin {\n",
              "    0% {\n",
              "      border-color: transparent;\n",
              "      border-bottom-color: var(--fill-color);\n",
              "      border-left-color: var(--fill-color);\n",
              "    }\n",
              "    20% {\n",
              "      border-color: transparent;\n",
              "      border-left-color: var(--fill-color);\n",
              "      border-top-color: var(--fill-color);\n",
              "    }\n",
              "    30% {\n",
              "      border-color: transparent;\n",
              "      border-left-color: var(--fill-color);\n",
              "      border-top-color: var(--fill-color);\n",
              "      border-right-color: var(--fill-color);\n",
              "    }\n",
              "    40% {\n",
              "      border-color: transparent;\n",
              "      border-right-color: var(--fill-color);\n",
              "      border-top-color: var(--fill-color);\n",
              "    }\n",
              "    60% {\n",
              "      border-color: transparent;\n",
              "      border-right-color: var(--fill-color);\n",
              "    }\n",
              "    80% {\n",
              "      border-color: transparent;\n",
              "      border-right-color: var(--fill-color);\n",
              "      border-bottom-color: var(--fill-color);\n",
              "    }\n",
              "    90% {\n",
              "      border-color: transparent;\n",
              "      border-bottom-color: var(--fill-color);\n",
              "    }\n",
              "  }\n",
              "</style>\n",
              "\n",
              "  <script>\n",
              "    async function quickchart(key) {\n",
              "      const quickchartButtonEl =\n",
              "        document.querySelector('#' + key + ' button');\n",
              "      quickchartButtonEl.disabled = true;  // To prevent multiple clicks.\n",
              "      quickchartButtonEl.classList.add('colab-df-spinner');\n",
              "      try {\n",
              "        const charts = await google.colab.kernel.invokeFunction(\n",
              "            'suggestCharts', [key], {});\n",
              "      } catch (error) {\n",
              "        console.error('Error during call to suggestCharts:', error);\n",
              "      }\n",
              "      quickchartButtonEl.classList.remove('colab-df-spinner');\n",
              "      quickchartButtonEl.classList.add('colab-df-quickchart-complete');\n",
              "    }\n",
              "    (() => {\n",
              "      let quickchartButtonEl =\n",
              "        document.querySelector('#df-1272facc-37d8-42bd-9679-9d686be69c52 button');\n",
              "      quickchartButtonEl.style.display =\n",
              "        google.colab.kernel.accessAllowed ? 'block' : 'none';\n",
              "    })();\n",
              "  </script>\n",
              "</div>\n",
              "\n",
              "    </div>\n",
              "  </div>\n"
            ],
            "application/vnd.google.colaboratory.intrinsic+json": {
              "type": "dataframe",
              "summary": "{\n  \"name\": \"data\",\n  \"rows\": 8,\n  \"fields\": [\n    {\n      \"column\": \"N\",\n      \"properties\": {\n        \"dtype\": \"number\",\n        \"std\": 582.4527341338654,\n        \"min\": 0.0,\n        \"max\": 1697.0,\n        \"num_unique_values\": 8,\n        \"samples\": [\n          52.647024160282854,\n          37.0,\n          1697.0\n        ],\n        \"semantic_type\": \"\",\n        \"description\": \"\"\n      }\n    },\n    {\n      \"column\": \"P\",\n      \"properties\": {\n        \"dtype\": \"number\",\n        \"std\": 580.9933800538668,\n        \"min\": 5.0,\n        \"max\": 1697.0,\n        \"num_unique_values\": 8,\n        \"samples\": [\n          58.12610489098409,\n          54.0,\n          1697.0\n        ],\n        \"semantic_type\": \"\",\n        \"description\": \"\"\n      }\n    },\n    {\n      \"column\": \"K\",\n      \"properties\": {\n        \"dtype\": \"number\",\n        \"std\": 582.229671258505,\n        \"min\": 5.0,\n        \"max\": 1697.0,\n        \"num_unique_values\": 8,\n        \"samples\": [\n          52.031231585150266,\n          27.0,\n          1697.0\n        ],\n        \"semantic_type\": \"\",\n        \"description\": \"\"\n      }\n    },\n    {\n      \"column\": \"temperature\",\n      \"properties\": {\n        \"dtype\": \"number\",\n        \"std\": 592.2730579470744,\n        \"min\": 4.9104280738355754,\n        \"max\": 1697.0,\n        \"num_unique_values\": 8,\n        \"samples\": [\n          24.711674475742484,\n          24.9103226,\n          1697.0\n        ],\n        \"semantic_type\": \"\",\n        \"description\": \"\"\n      }\n    },\n    {\n      \"column\": \"humidity\",\n      \"properties\": {\n        \"dtype\": \"number\",\n        \"std\": 579.8302403564516,\n        \"min\": 14.25803981,\n        \"max\": 1697.0,\n        \"num_unique_values\": 8,\n        \"samples\": [\n          65.84885564727166,\n          77.90621048,\n          1697.0\n        ],\n        \"semantic_type\": \"\",\n        \"description\": \"\"\n      }\n    },\n    {\n      \"column\": \"ph\",\n      \"properties\": {\n        \"dtype\": \"number\",\n        \"std\": 597.9707982824087,\n        \"min\": 0.8704111541132394,\n        \"max\": 1697.0,\n        \"num_unique_values\": 8,\n        \"samples\": [\n          6.438961774539187,\n          6.354006744,\n          1697.0\n        ],\n        \"semantic_type\": \"\",\n        \"description\": \"\"\n      }\n    },\n    {\n      \"column\": \"rainfall\",\n      \"properties\": {\n        \"dtype\": \"number\",\n        \"std\": 569.7315302018994,\n        \"min\": 5.31450727,\n        \"max\": 1697.0,\n        \"num_unique_values\": 8,\n        \"samples\": [\n          99.36493549430172,\n          93.12330644,\n          1697.0\n        ],\n        \"semantic_type\": \"\",\n        \"description\": \"\"\n      }\n    }\n  ]\n}"
            }
          },
          "metadata": {},
          "execution_count": 23
        }
      ],
      "source": [
        "# Visualizando a distribuição dos dados\n",
        "data.describe()"
      ]
    },
    {
      "cell_type": "code",
      "source": [
        "# Preparação dos dados\n",
        "X = data.drop('label', axis=1)\n",
        "y = data['label']\n",
        "\n",
        "# Codificar a variável alvo\n",
        "label_encoder = LabelEncoder()\n",
        "y = label_encoder.fit_transform(y)\n",
        "\n",
        "# Dividir os dados em treinamento e teste\n",
        "X_train, X_test, y_train, y_test = train_test_split(X, y, test_size=0.2, random_state=42)"
      ],
      "metadata": {
        "id": "4dDNKxxcnLbj"
      },
      "execution_count": 24,
      "outputs": []
    },
    {
      "cell_type": "markdown",
      "metadata": {
        "id": "GRlv9hCPvlkV"
      },
      "source": [
        "**Exercício 3 – Treinamento do Modelo (pode ser o K-NN ou Decision Tree)**"
      ]
    },
    {
      "cell_type": "markdown",
      "source": [
        "Escolha um algoritmo da biblioteca Scikit-learn que seja adequado para treinar um modelo de recomendação de plantio a partir das variaveis presentes no conjunto de dados."
      ],
      "metadata": {
        "id": "-wzcJQY828n4"
      }
    },
    {
      "cell_type": "code",
      "execution_count": 25,
      "metadata": {
        "id": "ZLFe-MEmugmm"
      },
      "outputs": [],
      "source": [
        "# Treinar o modelo KNN\n",
        "k = 3 #Número de vizinhos próximos\n",
        "\n",
        "knn = KNeighborsClassifier(n_neighbors=k)\n",
        "knn.fit(X_train, y_train)\n",
        "y_pred = knn.predict(X_test)"
      ]
    },
    {
      "cell_type": "markdown",
      "metadata": {
        "id": "4RfyoCzHwHr7"
      },
      "source": [
        "**Exercício 4 – Avaliar o Modelo**"
      ]
    },
    {
      "cell_type": "markdown",
      "source": [
        "Utilize a métrica adequada para avaliar o modelo a partir dos dados de treinamento"
      ],
      "metadata": {
        "id": "81J_MmhR3BSn"
      }
    },
    {
      "cell_type": "code",
      "execution_count": 27,
      "metadata": {
        "id": "FzT00bctwSQw",
        "colab": {
          "base_uri": "https://localhost:8080/",
          "height": 543
        },
        "outputId": "19bb9db1-e9e1-45d0-ef8a-2b0608f33fe8"
      },
      "outputs": [
        {
          "output_type": "stream",
          "name": "stdout",
          "text": [
            "A acurácia do classificador é:  0.9941176470588236\n"
          ]
        },
        {
          "output_type": "display_data",
          "data": {
            "text/plain": [
              "<Figure size 640x480 with 2 Axes>"
            ],
            "image/png": "[encoded data removed]"
          },
          "metadata": {}
        }
      ],
      "source": [
        "# Calcular a acurácia do classificador\n",
        "print(\"A acurácia do classificador é: \", accuracy_score(y_test, y_pred))\n",
        "\n",
        "# Exibir a matriz de confusão\n",
        "disp = ConfusionMatrixDisplay(confusion_matrix=confusion_matrix(y_test, y_pred), display_labels=label_encoder.classes_)\n",
        "disp.plot()\n",
        "\n",
        "# Ajustar as labels\n",
        "plt.xticks(rotation=45, ha='right')  # Rotacionar labels do eixo x\n",
        "plt.yticks(rotation=0)  # Rotacionar labels do eixo y\n",
        "plt.title(f'Matriz de Confusão para K={k}')\n",
        "plt.show()"
      ]
    }
  ],
  "metadata": {
    "colab": {
      "provenance": []
    },
    "kernelspec": {
      "display_name": "Python 3",
      "name": "python3"
    },
    "language_info": {
      "name": "python"
    }
  },
  "nbformat": 4,
  "nbformat_minor": 0
}